{
 "cells": [
  {
   "cell_type": "markdown",
   "metadata": {},
   "source": [
    "# Tensors\n",
    "### This script introduces how to create elemental NN tensors in TensorFlow"
   ]
  },
  {
   "cell_type": "markdown",
   "metadata": {},
   "source": [
    "The following is an elemental computational graph that we are goint to create and execute.\n",
    "It is very similar to many of the calculations that must be made in artificial neural networks.\n",
    "\n",
    "It is formed by a linear transformation, xW + b, followed by a non-linear activation fucntion, ReLU().\n",
    "Where:\n",
    "* x is a D-dimensional data point.\n",
    "* W is the DxM matrix of weights.\n",
    "* b is the bias M-dimensional vector\n",
    "![simple_graph](../images/simple_graph.png)"
   ]
  },
  {
   "cell_type": "markdown",
   "metadata": {},
   "source": [
    "## LOAD CONFIGURATION"
   ]
  },
  {
   "cell_type": "markdown",
   "metadata": {},
   "source": [
    "First we start with loading TensorFlow and reseting the computational graph."
   ]
  },
  {
   "cell_type": "code",
   "execution_count": 1,
   "metadata": {},
   "outputs": [
    {
     "name": "stderr",
     "output_type": "stream",
     "text": [
      "/home/parrondo/anaconda3/envs/deeptrading/lib/python3.5/importlib/_bootstrap.py:222: RuntimeWarning: numpy.dtype size changed, may indicate binary incompatibility. Expected 96, got 88\n",
      "  return f(*args, **kwds)\n",
      "/home/parrondo/anaconda3/envs/deeptrading/lib/python3.5/importlib/_bootstrap.py:222: RuntimeWarning: numpy.dtype size changed, may indicate binary incompatibility. Expected 96, got 88\n",
      "  return f(*args, **kwds)\n"
     ]
    }
   ],
   "source": [
    "import tensorflow as tf #Tensorflow 1.5 import warnings https://github.com/ContinuumIO/anaconda-issues/issues/6678\n",
    "from tensorflow.python.framework import ops\n",
    "ops.reset_default_graph()\n",
    "import random as rnd\n",
    "import numpy as np"
   ]
  },
  {
   "cell_type": "markdown",
   "metadata": {},
   "source": [
    "## IMPLEMENT THE MODEL"
   ]
  },
  {
   "cell_type": "markdown",
   "metadata": {},
   "source": [
    "### 1. Build a graph\n",
    "\n",
    "* a. Graph contains parameter specifications, model architecture, optimization process, ...\n",
    "\n",
    "* b. Somewhere between 5 and 5000 lines\n"
   ]
  },
  {
   "cell_type": "markdown",
   "metadata": {},
   "source": [
    "These are the elements involved in our graph:\n",
    "\n",
    "* Variables are 0-ary stateful nodes which output their current value.\n",
    "* Placeholders are 0-ary nodes whose value is fed in at execution time.\n",
    "* Mathematical operations:\n",
    "    * MatMul: Multiply two matrix values.\n",
    "    * Add: Add elementwise (with broadcasting).\n",
    "    * ReLU: Activate with elementwise rectified linear function.\n"
   ]
  },
  {
   "cell_type": "code",
   "execution_count": 2,
   "metadata": {},
   "outputs": [],
   "source": [
    "b = tf.Variable(tf.zeros((100,)), name='biases')\n",
    "W=tf.Variable(tf.random_uniform((1024, 100), -1, 1), name='weights')\n",
    "x = tf.placeholder(tf.float32, (1, 1024), name=\"x\")\n",
    "h_i = tf.nn.relu(tf.matmul(x, W) + b, name=\"h_i\")"
   ]
  },
  {
   "cell_type": "code",
   "execution_count": 3,
   "metadata": {},
   "outputs": [
    {
     "data": {
      "text/plain": [
       "<tf.Variable 'biases:0' shape=(100,) dtype=float32_ref>"
      ]
     },
     "execution_count": 3,
     "metadata": {},
     "output_type": "execute_result"
    }
   ],
   "source": [
    "b"
   ]
  },
  {
   "cell_type": "code",
   "execution_count": 4,
   "metadata": {},
   "outputs": [
    {
     "data": {
      "text/plain": [
       "<tf.Variable 'weights:0' shape=(1024, 100) dtype=float32_ref>"
      ]
     },
     "execution_count": 4,
     "metadata": {},
     "output_type": "execute_result"
    }
   ],
   "source": [
    "W"
   ]
  },
  {
   "cell_type": "code",
   "execution_count": 5,
   "metadata": {},
   "outputs": [
    {
     "data": {
      "text/plain": [
       "<tf.Tensor 'x:0' shape=(1, 1024) dtype=float32>"
      ]
     },
     "execution_count": 5,
     "metadata": {},
     "output_type": "execute_result"
    }
   ],
   "source": [
    "x"
   ]
  },
  {
   "cell_type": "markdown",
   "metadata": {},
   "source": [
    "### 2. Start a graph session\n",
    "\n",
    "Launch the graph in a session.\n",
    "\n",
    "* a session: a binding to a particular execution context\n",
    "    sess.run(fetches, feeds)\n",
    "\n",
    "* Fetches: List of graph nodes. Return the outputs of these nodes.\n",
    "* Feeds: Dictionary mapping from graph nodes to concrete values. Specifies the value of each graph node given in the dictionary.\n"
   ]
  },
  {
   "cell_type": "code",
   "execution_count": 6,
   "metadata": {},
   "outputs": [
    {
     "data": {
      "text/plain": [
       "array([[ 0.        ,  2.3799796 ,  0.        ,  0.        ,  0.        ,\n",
       "         5.7116704 ,  9.892372  ,  0.        ,  0.        , 10.10139   ,\n",
       "         0.        ,  0.40419406,  6.433485  ,  8.08982   ,  3.366507  ,\n",
       "         0.        ,  2.9525614 ,  0.6404748 ,  0.        , 13.50066   ,\n",
       "         0.        ,  0.        ,  0.        ,  0.        , 11.59197   ,\n",
       "         0.        ,  0.        ,  7.8827147 , 14.467917  ,  0.        ,\n",
       "         0.        ,  0.        ,  9.669572  ,  0.0907014 , 16.898396  ,\n",
       "         0.        ,  0.        ,  3.7823548 ,  0.        ,  0.7162654 ,\n",
       "         0.        , 17.48152   ,  0.        ,  3.1157236 ,  0.        ,\n",
       "         1.0707028 ,  0.        ,  0.        ,  0.        ,  6.848372  ,\n",
       "        11.503601  ,  0.        ,  0.        ,  3.4340348 ,  0.        ,\n",
       "         1.9381552 ,  3.2755644 ,  6.5616198 , 10.4794655 ,  0.        ,\n",
       "         1.5994972 ,  0.        ,  0.        ,  0.        ,  0.        ,\n",
       "         0.        ,  8.973095  , 11.838539  ,  0.        ,  0.5300804 ,\n",
       "         0.        , 16.315956  ,  8.245536  ,  0.        , 11.83759   ,\n",
       "         0.        , 14.958574  ,  0.        , 13.71896   , 21.845812  ,\n",
       "         3.563043  , 16.940338  ,  0.        ,  8.182699  ,  9.952968  ,\n",
       "         8.413696  , 15.420557  ,  0.        , 12.520411  ,  0.        ,\n",
       "         8.671607  ,  0.        ,  0.        ,  3.582255  ,  0.        ,\n",
       "        17.792744  ,  0.        ,  2.5677953 , 12.895992  ,  0.        ]],\n",
       "      dtype=float32)"
      ]
     },
     "execution_count": 6,
     "metadata": {},
     "output_type": "execute_result"
    }
   ],
   "source": [
    "# Initial and Run Session\n",
    "sess = tf.Session()\n",
    "sess.run(tf.global_variables_initializer())\n",
    "rand_array = np.random.rand(1, 1024)\n",
    "sess.run(h_i, feed_dict={x: rand_array})"
   ]
  },
  {
   "cell_type": "markdown",
   "metadata": {},
   "source": [
    "### Visualizing the Variable Creation in TensorBoard\n",
    "To visualize the creation of variables in Tensorboard, we will reset the computational graph and create a global initializing operation.\n",
    "\n",
    "Typical TensorFlow graphs can have many thousands of nodes. To simplify, variable names can be grouped and the visualization uses this information to define a hierarchy on the nodes in the graph. By default, only the top of this hierarchy is shown. Here is an example that defines three operations under the hidden name scope using `tf.name_scope`.\n",
    "\n",
    "Grouping nodes by name scopes is important to making a legible graph. If we are building a model, name scopes give us control over the resulting visualization. The better our name scopes, the better our visualization."
   ]
  },
  {
   "cell_type": "code",
   "execution_count": 7,
   "metadata": {},
   "outputs": [],
   "source": [
    "# Reset graph\n",
    "ops.reset_default_graph()\n",
    "\n",
    "b = tf.Variable(tf.zeros((100,)), name='biases')\n",
    "W=tf.Variable(tf.random_uniform((1024, 100), -1, 1), name='weights')\n",
    "x = tf.placeholder(tf.float32, (1, 1024), name=\"x\")\n",
    "h_i = tf.nn.relu(tf.matmul(x, W) + b, name=\"h_i\")\n",
    "\n",
    "\n",
    "# Initial and Run Session\n",
    "with tf.Session() as sess:\n",
    "    writer = tf.summary.FileWriter(\"/tmp/tensorflow_logs\", sess.graph)\n",
    "    sess.run(tf.global_variables_initializer())\n",
    "    rand_array = np.random.rand(1, 1024)\n",
    "    sess.run(h_i, feed_dict={x: rand_array})\n",
    "    writer.flush()\n",
    "    writer.close()\n"
   ]
  },
  {
   "cell_type": "markdown",
   "metadata": {},
   "source": [
    "We now run the following command in our command prompt:\n",
    "\n",
    "`tensorboard --logdir=tmp/tensorflow_logs`\n",
    "\n",
    "And it will tell us the URL we can navigate our browser to to see Tensorboard. The default should be:\n",
    "\n",
    "`http://0.0.0.0:6006/`\n",
    "\n",
    "Here is the graph.\n",
    "![graph_1](../images/graph_1.png)"
   ]
  },
  {
   "cell_type": "markdown",
   "metadata": {
    "collapsed": true
   },
   "source": [
    "### Creating Tensors\n",
    "TensorFlow has built in function to create tensors for use in variables.  For example, we can create a zero filled tensor of predefined shape using the `tf.zeros()` function as follows."
   ]
  },
  {
   "cell_type": "code",
   "execution_count": 8,
   "metadata": {},
   "outputs": [],
   "source": [
    "one_tensor = tf.zeros([1,50])"
   ]
  },
  {
   "cell_type": "markdown",
   "metadata": {},
   "source": [
    "### 3. Fetch and feed data with Session.run\n",
    "\n",
    "* a. Compilation, optimization, etc. are involved at this step. We probably will not notice\n"
   ]
  },
  {
   "cell_type": "markdown",
   "metadata": {},
   "source": [
    "We can evaluate tensors with calling a `run()` method on our session."
   ]
  },
  {
   "cell_type": "code",
   "execution_count": 10,
   "metadata": {},
   "outputs": [
    {
     "data": {
      "text/plain": [
       "array([[0., 0., 0., 0., 0., 0., 0., 0., 0., 0., 0., 0., 0., 0., 0., 0.,\n",
       "        0., 0., 0., 0., 0., 0., 0., 0., 0., 0., 0., 0., 0., 0., 0., 0.,\n",
       "        0., 0., 0., 0., 0., 0., 0., 0., 0., 0., 0., 0., 0., 0., 0., 0.,\n",
       "        0., 0.]], dtype=float32)"
      ]
     },
     "execution_count": 10,
     "metadata": {},
     "output_type": "execute_result"
    }
   ],
   "source": [
    "# Start session\n",
    "sess = tf.Session()\n",
    "sess.run(tf.global_variables_initializer())\n",
    "\n",
    "sess.run(one_tensor)"
   ]
  },
  {
   "cell_type": "markdown",
   "metadata": {},
   "source": [
    "TensorFlow algorithms need to know which objects are variables and which are constants.We create a variable using the TensorFlow function `tf.Variable()` as follows."
   ]
  },
  {
   "cell_type": "code",
   "execution_count": 11,
   "metadata": {},
   "outputs": [],
   "source": [
    "one_var = tf.Variable(tf.zeros([1,64]))"
   ]
  },
  {
   "cell_type": "markdown",
   "metadata": {},
   "source": [
    "Note that we can not run `sess.run(one_var)`, this would result in an error.  Because TensorFlow operates with computational graphs, we have to create a variable intialization operation in order to evaluate variables. We can initialize one variable at a time by calling the variable method `one_var.initializer`."
   ]
  },
  {
   "cell_type": "code",
   "execution_count": 12,
   "metadata": {},
   "outputs": [
    {
     "data": {
      "text/plain": [
       "array([[0., 0., 0., 0., 0., 0., 0., 0., 0., 0., 0., 0., 0., 0., 0., 0.,\n",
       "        0., 0., 0., 0., 0., 0., 0., 0., 0., 0., 0., 0., 0., 0., 0., 0.,\n",
       "        0., 0., 0., 0., 0., 0., 0., 0., 0., 0., 0., 0., 0., 0., 0., 0.,\n",
       "        0., 0., 0., 0., 0., 0., 0., 0., 0., 0., 0., 0., 0., 0., 0., 0.]],\n",
       "      dtype=float32)"
      ]
     },
     "execution_count": 12,
     "metadata": {},
     "output_type": "execute_result"
    }
   ],
   "source": [
    "sess.run(one_var.initializer)\n",
    "sess.run(one_var)"
   ]
  },
  {
   "cell_type": "markdown",
   "metadata": {},
   "source": [
    "It is very important to control the dimensions of our entities. This is a very sensitive point and due to the high quantity of data involved in NN calculations, that detail is of major importance. Let's first start by creating variables of specific shape by declaring our row and column size."
   ]
  },
  {
   "cell_type": "code",
   "execution_count": 13,
   "metadata": {},
   "outputs": [],
   "source": [
    "row_dim = 3\n",
    "col_dim = 5"
   ]
  },
  {
   "cell_type": "markdown",
   "metadata": {},
   "source": [
    "Here are variables initialized to contain all zeros or ones."
   ]
  },
  {
   "cell_type": "code",
   "execution_count": 14,
   "metadata": {},
   "outputs": [],
   "source": [
    "zero_var = tf.Variable(tf.zeros([row_dim, col_dim]))\n",
    "ones_var = tf.Variable(tf.ones([row_dim, col_dim]))"
   ]
  },
  {
   "cell_type": "markdown",
   "metadata": {},
   "source": [
    "Now, we can call the initializer method on our variables and run them to evaluate thier contents."
   ]
  },
  {
   "cell_type": "code",
   "execution_count": 15,
   "metadata": {},
   "outputs": [
    {
     "name": "stdout",
     "output_type": "stream",
     "text": [
      "[[0. 0. 0. 0. 0.]\n",
      " [0. 0. 0. 0. 0.]\n",
      " [0. 0. 0. 0. 0.]]\n",
      "[[1. 1. 1. 1. 1.]\n",
      " [1. 1. 1. 1. 1.]\n",
      " [1. 1. 1. 1. 1.]]\n"
     ]
    }
   ],
   "source": [
    "sess.run(zero_var.initializer)\n",
    "sess.run(ones_var.initializer)\n",
    "print(sess.run(zero_var))\n",
    "print(sess.run(ones_var))"
   ]
  },
  {
   "cell_type": "code",
   "execution_count": 16,
   "metadata": {},
   "outputs": [
    {
     "data": {
      "text/plain": [
       "<tf.Variable 'Variable_1:0' shape=(3, 5) dtype=float32_ref>"
      ]
     },
     "execution_count": 16,
     "metadata": {},
     "output_type": "execute_result"
    }
   ],
   "source": [
    "# Type the entity class\n",
    "zero_var"
   ]
  },
  {
   "cell_type": "code",
   "execution_count": 17,
   "metadata": {},
   "outputs": [
    {
     "data": {
      "text/plain": [
       "<tf.Variable 'Variable_2:0' shape=(3, 5) dtype=float32_ref>"
      ]
     },
     "execution_count": 17,
     "metadata": {},
     "output_type": "execute_result"
    }
   ],
   "source": [
    "# Type the entity class\n",
    "ones_var"
   ]
  },
  {
   "cell_type": "markdown",
   "metadata": {},
   "source": [
    "### Creating Tensors Based on Other Tensor's Shape\n",
    "If the shape of a tensor depends on the shape of another tensor, then we can use the TensorFlow built-in functions `ones_like()` or `zeros_like()`."
   ]
  },
  {
   "cell_type": "code",
   "execution_count": 18,
   "metadata": {},
   "outputs": [
    {
     "name": "stdout",
     "output_type": "stream",
     "text": [
      "[[0. 0. 0. 0. 0.]\n",
      " [0. 0. 0. 0. 0.]\n",
      " [0. 0. 0. 0. 0.]]\n",
      "[[1. 1. 1. 1. 1.]\n",
      " [1. 1. 1. 1. 1.]\n",
      " [1. 1. 1. 1. 1.]]\n"
     ]
    }
   ],
   "source": [
    "other_zero_var = tf.Variable(tf.zeros_like(zero_var))\n",
    "other_ones_var = tf.Variable(tf.ones_like(ones_var))\n",
    "\n",
    "sess.run(other_zero_var.initializer)\n",
    "sess.run(other_ones_var.initializer)\n",
    "\n",
    "print(sess.run(other_zero_var))\n",
    "print(sess.run(other_ones_var))"
   ]
  },
  {
   "cell_type": "markdown",
   "metadata": {},
   "source": [
    "### Filling a Tensor with a Constant\n",
    "Here is how we fill a tensor with a constant."
   ]
  },
  {
   "cell_type": "code",
   "execution_count": 20,
   "metadata": {},
   "outputs": [
    {
     "name": "stdout",
     "output_type": "stream",
     "text": [
      "[[3.14 3.14 3.14 3.14 3.14]\n",
      " [3.14 3.14 3.14 3.14 3.14]\n",
      " [3.14 3.14 3.14 3.14 3.14]]\n"
     ]
    }
   ],
   "source": [
    "filled_var = tf.Variable(tf.fill([row_dim, col_dim], 3.14))\n",
    "sess.run(filled_var.initializer)\n",
    "print(sess.run(filled_var))"
   ]
  },
  {
   "cell_type": "markdown",
   "metadata": {},
   "source": [
    "We can also create a variable from an array or list of constants."
   ]
  },
  {
   "cell_type": "code",
   "execution_count": 21,
   "metadata": {},
   "outputs": [
    {
     "name": "stdout",
     "output_type": "stream",
     "text": [
      "[3 1 4 1 5 9 2]\n",
      "[[3 1 4 1 5]\n",
      " [9 2 6 5 3]\n",
      " [5 8 9 7 9]]\n"
     ]
    }
   ],
   "source": [
    "# Create a variable from a constant\n",
    "const_var = tf.Variable(tf.constant([3, 1, 4, 1, 5, 9, 2]))\n",
    "\n",
    "# This can also be used to fill an array:\n",
    "const_fill_array = tf.Variable(tf.constant([3,1,4,1,5,9,2,6,5,3,5,8,9,7,9], shape=[row_dim, col_dim]))\n",
    "\n",
    "sess.run(const_var.initializer)\n",
    "sess.run(const_fill_array.initializer)\n",
    "\n",
    "print(sess.run(const_var))\n",
    "print(sess.run(const_fill_array))"
   ]
  },
  {
   "cell_type": "markdown",
   "metadata": {},
   "source": [
    "### Creating Tensors Based on Sequences and Ranges\n",
    "We can also create tensors from sequence generation functions in TensorFlow.  The TensorFlow function `linspace()` and `range()` operate very similar to the python/numpy equivalents."
   ]
  },
  {
   "cell_type": "code",
   "execution_count": 22,
   "metadata": {},
   "outputs": [
    {
     "name": "stdout",
     "output_type": "stream",
     "text": [
      "[0.   0.25 0.5  0.75 1.  ]\n",
      "[ 6  9 12 15]\n"
     ]
    }
   ],
   "source": [
    "# Linspace in TensorFlow\n",
    "linear_var = tf.Variable(tf.linspace(start=0.0, stop=1.0, num=5)) # Generates [0.,0.25,0.5,0.75, 1.] includes the end\n",
    "\n",
    "# Range in TensorFlow\n",
    "sequence_var = tf.Variable(tf.range(start=6, limit=17, delta=3)) # Generates [6, 9, 12, 15] doesn't include the end\n",
    "\n",
    "sess.run(linear_var.initializer)\n",
    "sess.run(sequence_var.initializer)\n",
    "\n",
    "print(sess.run(linear_var))\n",
    "print(sess.run(sequence_var))"
   ]
  },
  {
   "cell_type": "markdown",
   "metadata": {},
   "source": [
    "### Random Number Tensors\n",
    "We can initialize tensors that come from random numbers like following."
   ]
  },
  {
   "cell_type": "code",
   "execution_count": 23,
   "metadata": {},
   "outputs": [
    {
     "name": "stdout",
     "output_type": "stream",
     "text": [
      "[[-1.3629563  -1.3664439  -0.72835475 -2.3570406  -0.31535667]\n",
      " [ 0.26235196  0.301876    0.20770198  2.2769299   1.7364241 ]\n",
      " [-0.388656    0.3083807   1.0538763   0.4854179  -0.41834855]]\n",
      "[[0.67954206 2.5638103  1.9654655  2.6455693  2.5157561 ]\n",
      " [0.733438   0.48339128 3.7160473  2.1167154  1.9247737 ]\n",
      " [3.7721186  2.155336   2.2508612  3.9784613  3.4868307 ]]\n"
     ]
    }
   ],
   "source": [
    "rnorm_var = tf.random_normal([row_dim, col_dim], mean=0.0, stddev=1.0)\n",
    "runif_var = tf.random_uniform([row_dim, col_dim], minval=0, maxval=4)\n",
    "\n",
    "print(sess.run(rnorm_var))\n",
    "print(sess.run(runif_var))"
   ]
  },
  {
   "cell_type": "code",
   "execution_count": null,
   "metadata": {},
   "outputs": [],
   "source": []
  }
 ],
 "metadata": {
  "kernelspec": {
   "display_name": "deeptrading",
   "language": "python",
   "name": "deeptrading"
  },
  "language_info": {
   "codemirror_mode": {
    "name": "ipython",
    "version": 3
   },
   "file_extension": ".py",
   "mimetype": "text/x-python",
   "name": "python",
   "nbconvert_exporter": "python",
   "pygments_lexer": "ipython3",
   "version": "3.5.5"
  }
 },
 "nbformat": 4,
 "nbformat_minor": 2
}
